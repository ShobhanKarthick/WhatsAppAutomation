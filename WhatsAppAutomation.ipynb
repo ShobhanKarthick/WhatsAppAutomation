{
 "metadata": {
  "language_info": {
   "codemirror_mode": {
    "name": "ipython",
    "version": 3
   },
   "file_extension": ".py",
   "mimetype": "text/x-python",
   "name": "python",
   "nbconvert_exporter": "python",
   "pygments_lexer": "ipython3",
   "version": "3.9.5-final"
  },
  "orig_nbformat": 2,
  "kernelspec": {
   "name": "python39564bitf2d38d6713bf472c85040f53d2924c90",
   "display_name": "Python 3.9.5 64-bit"
  }
 },
 "nbformat": 4,
 "nbformat_minor": 2,
 "cells": [
  {
   "cell_type": "code",
   "execution_count": 27,
   "metadata": {},
   "outputs": [],
   "source": [
    "import time\n",
    "import os"
   ]
  },
  {
   "cell_type": "code",
   "execution_count": 28,
   "metadata": {},
   "outputs": [],
   "source": [
    "from selenium import webdriver\n",
    "from selenium.webdriver.support.ui import WebDriverWait\n",
    "from selenium.webdriver.common.keys import Keys\n",
    "from selenium.webdriver.common.by import By\n",
    "from selenium.webdriver.support import expected_conditions as EC"
   ]
  },
  {
   "cell_type": "code",
   "execution_count": 29,
   "metadata": {},
   "outputs": [],
   "source": [
    "chromeoptions = webdriver.ChromeOptions()\n"
   ]
  },
  {
   "cell_type": "code",
   "execution_count": 30,
   "metadata": {},
   "outputs": [],
   "source": [
    "## For Linux!\n",
    "\n",
    "chromeoptions.add_argument('--user-data-dir=./User_Data')\n",
    "chrome = webdriver.Chrome(chrome_options=chromeoptions)"
   ]
  },
  {
   "cell_type": "code",
   "execution_count": 31,
   "metadata": {},
   "outputs": [],
   "source": [
    "## For Windows!\n",
    "\n",
    "# chromeoptions.add_argument('--allow-profiles-outside-user-dir')             # Not neccessary but have it.\n",
    "# chromeoptions.add_argument('--enable-profile-shortcut-manager')                # Not neccessary but have it.\n",
    "# chromeoptions.add_argument(\"user-data-dir=\" + os.path.abspath(r'.\\User_Data'))    # Windows needs Absolute Path to be given\n",
    "# chromeoptions.add_argument('--profile-directory=Profile 1')\n",
    "# chrome = webdriver.Chrome( executable_path=\"C:\\Drivers\\chromedriver.exe\", chrome_options=chromeoptions)   # chromedriver absolute path should be given"
   ]
  },
  {
   "cell_type": "code",
   "execution_count": 32,
   "metadata": {},
   "outputs": [],
   "source": [
    "chrome.implicitly_wait(30)\n",
    "chromeWait = WebDriverWait(chrome, 30)\n",
    "chrome.maximize_window()"
   ]
  },
  {
   "cell_type": "code",
   "execution_count": 33,
   "metadata": {},
   "outputs": [],
   "source": [
    "chrome.get(\"https://web.whatsapp.com\")"
   ]
  },
  {
   "cell_type": "code",
   "execution_count": 34,
   "metadata": {},
   "outputs": [],
   "source": [
    "# Searching for the contact\n",
    "\n",
    "xpath = \"//*[@id='side']/div[1]/div/label/div/div[2]\"\n",
    "SearchBar = chrome.find_element(By.XPATH, xpath)\n",
    "SearchBar.click()\n",
    "SearchBar.send_keys(\"Shobhan\")\n",
    "time.sleep(3)\n",
    "SearchBar.send_keys(Keys.ENTER)\n",
    "time.sleep(3)"
   ]
  },
  {
   "cell_type": "code",
   "execution_count": 35,
   "metadata": {},
   "outputs": [],
   "source": [
    "messageBoxClass = \"_33LGR\"\n",
    "MessageBox = chrome.find_element(By.CLASS_NAME, messageBoxClass)"
   ]
  },
  {
   "cell_type": "code",
   "execution_count": 36,
   "metadata": {},
   "outputs": [],
   "source": [
    "# Scrolling and taking screenshots\n",
    "\n",
    "for i in range(4, -1, -1):\n",
    "    fileName = \"ss_\" + str(i+1) + \".png\"\n",
    "    MessageBox.screenshot(fileName)\n",
    "    MessageBoxHeight = MessageBox.size['height']\n",
    "    chrome.execute_script(\"arguments[0].scrollBy(0, arguments[1]);\", MessageBox, -MessageBoxHeight)\n",
    "    time.sleep(3)\n",
    "    "
   ]
  },
  {
   "cell_type": "code",
   "execution_count": 37,
   "metadata": {},
   "outputs": [],
   "source": [
    "chrome.get(\"https://web.telegram.org/?legacy=1#/im\")\n",
    "teleSeachXPath = \"//*[@id='ng-app']/body/div//input[@type='search']\"\n"
   ]
  },
  {
   "cell_type": "code",
   "execution_count": 38,
   "metadata": {},
   "outputs": [],
   "source": [
    "teleSearchBar = chrome.find_element(By.XPATH, teleSeachXPath)"
   ]
  },
  {
   "cell_type": "code",
   "execution_count": 39,
   "metadata": {},
   "outputs": [],
   "source": [
    "teleSearchBar.send_keys(\"RX 100\")\n",
    "time.sleep(2)\n",
    "teleSearchBar.send_keys(Keys.ENTER)\n",
    "time.sleep(2)"
   ]
  },
  {
   "cell_type": "code",
   "execution_count": 40,
   "metadata": {},
   "outputs": [],
   "source": [
    "TeleInputFilecClass = \"im_attach_input\""
   ]
  },
  {
   "cell_type": "code",
   "execution_count": 41,
   "metadata": {},
   "outputs": [],
   "source": [
    "TeleFileInput = chrome.find_element(By.CLASS_NAME, TeleInputFilecClass)\n",
    "time.sleep(2)"
   ]
  },
  {
   "cell_type": "code",
   "execution_count": 42,
   "metadata": {},
   "outputs": [],
   "source": [
    "for i in range(5):\n",
    "    TeleFileInput.send_keys(os.path.abspath(\"./ss_\" + str(i+1) + \".png\"))\n",
    "\n",
    "time.sleep(60)"
   ]
  },
  {
   "cell_type": "code",
   "execution_count": 43,
   "metadata": {},
   "outputs": [],
   "source": [
    "chrome.close()"
   ]
  },
  {
   "cell_type": "code",
   "execution_count": null,
   "metadata": {},
   "outputs": [],
   "source": []
  }
 ]
}